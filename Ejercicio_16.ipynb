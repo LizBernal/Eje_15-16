{
 "cells": [
  {
   "cell_type": "code",
   "execution_count": 4,
   "metadata": {},
   "outputs": [],
   "source": [
    "from math import comb"
   ]
  },
  {
   "cell_type": "markdown",
   "metadata": {},
   "source": [
    "Trabajo en equipo.En un grupo de 25 alumnos hay 13 chicas y 12 chicos. Se desean formar\n",
    "equipos de trabajo para realizar una investigación:\n",
    "\n",
    "\n",
    "a) ¿Cuántos equipos de cinco personas pueden formarse?\n",
    "\n",
    "Dado que tenemos 25 alumnos los cuales tienen que trabajar en equipo de 5, aplicacmos la formula de combinaciones  :\n",
    "$$\n",
    "\\begin{align}\n",
    "    _nC_r &= \\dfrac{n!}{r!(n - r)!}\\\\\n",
    "    _25C_5 &= \\dfrac{25!}{5!(25 - 5)!}\\\\\n",
    "    _25C_5 &= \\dfrac{25!}{20! * 5!} \\\\\n",
    "    _25C_5 &= \\dfrac{6,375,600}{120}\\\\\n",
    "    _25C_5 &= 53130\n",
    "\\end{align} \n",
    "$$"
   ]
  },
  {
   "cell_type": "code",
   "execution_count": 5,
   "metadata": {},
   "outputs": [
    {
     "name": "stdout",
     "output_type": "stream",
     "text": [
      "Equipo de cinco personas:  53130\n"
     ]
    }
   ],
   "source": [
    "# Implementacion de la solucion del inciso a) del ejercicio 16\n",
    "\n",
    "num_alumnos = 25\n",
    "num_equipos = 5\n",
    "t_equipos_a = comb(num_alumnos, num_equipos)\n",
    "print(\"Equipo de cinco personas: \", t_equipos_a)"
   ]
  },
  {
   "cell_type": "markdown",
   "metadata": {},
   "source": [
    "En este caso aplicamos 2 combinaciones:\n",
    "$$\n",
    "\\begin{align}\n",
    "    _13C_1\\\\\n",
    "    _12C_4 \n",
    "\\end{align} \n",
    "$$\n",
    "\n",
    "La primera representa el número de formas de seleccionar 1 chica de entre las 13 chicas\n",
    "\n",
    "y la segunda representa el número de formas de seleccionar 4 chicos de entre los 12 chicos.\n",
    "\n",
    "- *Primera*\n",
    "$$\n",
    "\\begin{align}\n",
    "    _13C_1 &= \\dfrac{13!}{1!(13 - 1)!}\\\\\n",
    "    _13C_1 &= \\dfrac{13 * 12!}{1 * 12!} \\\\\n",
    "    _13C_1 &= \\dfrac{13}{1}\\\\\n",
    "    _13C_1 &= 13\n",
    "\\end{align} \n",
    "$$\n",
    "\n",
    "- *Segunda*\n",
    "$$\n",
    "\\begin{align}\n",
    "    _12C_4 &= \\dfrac{12!}{4!(12 - 4)!}\\\\\n",
    "    _12C_4 &= \\dfrac{12 * 11 * 10 * 9 * 8!}{4 * 3 * 2 * 1 * 8!} \\\\\n",
    "    _12C_4 &= \\dfrac{11880}{24}\\\\\n",
    "    _12C_4 &= 495\n",
    "\\end{align} \n",
    "$$\n",
    "\n",
    "Se multiplica estos dos resultados para obtener el número total de equipos:\n",
    "\n",
    "$$\n",
    "\\begin{align}\n",
    "13 \\times 495 = 6435\\end{align}\n",
    "$$\n",
    "\n",
    "Al multiplicar ambos resultados, estamos contabilizando todas las posibles combinaciones de seleccionar 1 chica y\n",
    "4 chicos para formar un equipo de 5 personas, esto  da el número total de equipos posibles que cumplen con la condición de tener al menos una chica.\n"
   ]
  },
  {
   "cell_type": "code",
   "execution_count": 6,
   "metadata": {},
   "outputs": [
    {
     "name": "stdout",
     "output_type": "stream",
     "text": [
      "Equipos con una chica:  6435\n"
     ]
    }
   ],
   "source": [
    "# Implementacion de la solucion del inciso b) del ejercicio 16\n",
    "n_chicas = 13\n",
    "n_chicos = 12\n",
    "t_equipos_b = comb(n_chicas, 1) * comb(n_chicos, num_equipos - 1)\n",
    "print(\"Equipos con una chica: \", t_equipos_b)\n"
   ]
  },
  {
   "cell_type": "markdown",
   "metadata": {},
   "source": [
    "Igualmente aplicamos 2 combinaciones:\n",
    "$$\n",
    "\\begin{align}\n",
    "    _13C_2\\\\\n",
    "    _12C_3 \n",
    "\\end{align} \n",
    "$$\n",
    "\n",
    "La primera representa el número de formas de seleccionar 2 chicas de entre las 13 chicas\n",
    "\n",
    "y la segunda representa el número de formas de seleccionar 3 chicos de entre los 12 chicos.\n",
    "\n",
    "- *Primera*\n",
    "$$\n",
    "\\begin{align}\n",
    "    _13C_2 &= \\dfrac{13!}{2!(13 - 2)!}\\\\\n",
    "    _13C_2 &= \\dfrac{13 * 12 * 11!}{2 * 1 * 11!} \\\\\n",
    "    _13C_2 &= \\dfrac{156}{2}\\\\\n",
    "    _13C_2 &= 78\n",
    "\\end{align} \n",
    "$$\n",
    "\n",
    "- *Segunda*\n",
    "$$\n",
    "\\begin{align}\n",
    "    _12C_4 &= \\dfrac{12!}{3!(12 - 3)!}\\\\\n",
    "    _12C_4 &= \\dfrac{12 * 11 * 10 * 9!}{3 * 2 * 1 * 9!} \\\\\n",
    "    _12C_4 &= \\dfrac{1320}{6}\\\\\n",
    "    _12C_4 &= 220\n",
    "\\end{align} \n",
    "$$\n",
    "\n",
    "El número total de equipos es el resultado de multiplicar el número de formas de seleccionar las 2 chicas por el número de formas de seleccionar los 3 chicos restantes.\n",
    "Esto da el número total de equipos posibles que cumplen con la condición de tener al menos dos chicas.\n",
    "\n",
    "$$\n",
    "\\begin{align}\n",
    "78 \\times 220 &= 17160\n",
    "\\end{align}\n",
    "$$"
   ]
  },
  {
   "cell_type": "code",
   "execution_count": 7,
   "metadata": {},
   "outputs": [
    {
     "name": "stdout",
     "output_type": "stream",
     "text": [
      "Equipos con dos chicas:  17160\n"
     ]
    }
   ],
   "source": [
    "# Implementacion de la solucion del inciso c) del ejercicio 16\n",
    "t_equipos_c = comb(n_chicas, 2) * comb(n_chicos, num_equipos - 2)\n",
    "print(\"Equipos con dos chicas: \", t_equipos_c)"
   ]
  },
  {
   "cell_type": "markdown",
   "metadata": {},
   "source": [
    "d) Determina las probabilidades correspondientes a los incisos anteriores.\n",
    "La probabilidad se obtine de los casos favorables / caso total, entonces:\n",
    "\n",
    "$$\n",
    "\\begin{align}\n",
    "    \\dfrac{53130}{53130} &= 1\\\\\n",
    "    \\dfrac{6435}{53130} &= 0.12\\\\\n",
    "    \\dfrac{17160}{53130} &= 0.32\\\\\n",
    "\\end{align} \n",
    "$$"
   ]
  },
  {
   "cell_type": "code",
   "execution_count": 8,
   "metadata": {},
   "outputs": [
    {
     "name": "stdout",
     "output_type": "stream",
     "text": [
      "Probabilidad: \n",
      "1.0 , 0.12111801242236025 , 0.32298136645962733\n"
     ]
    }
   ],
   "source": [
    "# Implementacion de la solucion del inciso d) del ejercicio 16\n",
    "total = comb(num_alumnos, num_equipos)\n",
    "po_a = t_equipos_a / total \n",
    "po_b = t_equipos_b / total \n",
    "po_c = t_equipos_c / total \n",
    "\n",
    "print(\"Probabilidad: \")\n",
    "print(po_a, \",\", po_b, \",\", po_c)\n"
   ]
  }
 ],
 "metadata": {
  "kernelspec": {
   "display_name": "Python 3",
   "language": "python",
   "name": "python3"
  },
  "language_info": {
   "codemirror_mode": {
    "name": "ipython",
    "version": 3
   },
   "file_extension": ".py",
   "mimetype": "text/x-python",
   "name": "python",
   "nbconvert_exporter": "python",
   "pygments_lexer": "ipython3",
   "version": "3.12.1"
  }
 },
 "nbformat": 4,
 "nbformat_minor": 2
}
