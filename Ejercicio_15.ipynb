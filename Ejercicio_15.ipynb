{
 "cells": [
  {
   "cell_type": "code",
   "execution_count": 8,
   "metadata": {},
   "outputs": [],
   "source": [
    "from math import factorial"
   ]
  },
  {
   "cell_type": "markdown",
   "metadata": {},
   "source": [
    "Futbol.Tres parejas (tres hombres y tres mujeres) compran boletos para ir a un partido de los\n",
    "Pumas. Cuando llegan al estadio de Ciudad Universitaria les surge la duda de cómo sentarse en\n",
    "la fila. ¿De cuántas maneras pueden hacerlo si:\n",
    "\n",
    "a) No hay restricciones?"
   ]
  },
  {
   "cell_type": "markdown",
   "metadata": {},
   "source": [
    "Como hay 6 personas (3 hombres y 3 mujeres) los cuales se pueden sentar sin restrincciones,\n",
    "aplicamos el uso de permutaciones:\n",
    "$$\n",
    "\\begin{align}\n",
    "    _nP_r &= \\dfrac{n!}{(n - r)!}\\\\\n",
    "    _6P_6 &= \\dfrac{6!}{(6 - 6)!}\\\\\n",
    "    _6P_6 &= \\dfrac{6 * 5 * 4 * 3 * 2 * 1}{0!} \\\\\n",
    "    _6P_6 &= \\dfrac{720}{1}\\\\\n",
    "    _6P_6 &= 720\n",
    "\\end{align} \n",
    "$$\n",
    "\n"
   ]
  },
  {
   "cell_type": "code",
   "execution_count": 9,
   "metadata": {},
   "outputs": [
    {
     "name": "stdout",
     "output_type": "stream",
     "text": [
      "Sin restricciones:  720\n"
     ]
    }
   ],
   "source": [
    "# Implementacion de la solucion del inciso a) del ejercicio 15\n",
    "num_personas = 6\n",
    "cant_maneras_a = factorial(num_personas)\n",
    "print(\"Sin restricciones: \", cant_maneras_a)"
   ]
  },
  {
   "cell_type": "markdown",
   "metadata": {},
   "source": [
    "b) Los hombres deben sentarse juntos?\n",
    "\n",
    "Si enumeramos los asientos de izquierda a derecha del 1 a 6 como son tres hombres pueden ir en los asientos de la siguiente forma:\n",
    "\n",
    "\n",
    "Del 1 al 3, del 2 al 4, del 3 al 5 y del 4 al 6 \n",
    "\n",
    "Esto nos da 4 opciones, por lo que fijamos el lugar donde van los 3 hombres al permutarlos \n",
    "tenemos permutaciones de 3 en 3, luego en los asientos restantes se permutan a las mujeres; \n",
    "como hay 4 maneras de fijar a los hombres multiplicamos por 4.\n",
    "\n",
    "$$\n",
    "\\begin{align}\n",
    "4 \\times 3!\\times 3!\\\\\n",
    "4 \\times (3\\times  2 \\times 1)\\times (3 \\times  2 \\times 1)\\\\\n",
    "4 \\times 6\\times 6 &= 144\n",
    "\\end{align}\n",
    "$$\n"
   ]
  },
  {
   "cell_type": "code",
   "execution_count": 10,
   "metadata": {},
   "outputs": [
    {
     "name": "stdout",
     "output_type": "stream",
     "text": [
      "Hombres juntos:  144\n"
     ]
    }
   ],
   "source": [
    "# Implementacion de la solucion del inciso b) del ejercicio 15\n",
    "num_mujeres = 3\n",
    "num_hombres = 3\n",
    "cant_maneras_b = 4 * factorial(num_mujeres) * factorial(num_hombres)\n",
    "print(\"Hombres juntos: \",cant_maneras_b )"
   ]
  },
  {
   "cell_type": "markdown",
   "metadata": {},
   "source": [
    "c) Deben sentarse por parejas?\n",
    "\n",
    "Tenemos a las 3 parejas que el total son 6 personas:\n",
    "Se calcula de cuántas formas se pueden ordenar las 3 parejas. Esto es una permutación, por lo que hay 3! = 6 formas \n",
    "\n",
    "$$\n",
    "\\begin{align}\n",
    "    _nP_r &= \\dfrac{n!}{(n - r)!}\\\\\n",
    "    _3P_3 &= \\dfrac{3!}{(3 - 3)!}\\\\\n",
    "    _3P_3 &= \\dfrac{3 * 2 * 1}{0!} \\\\\n",
    "    _3P_3 &= \\dfrac{6}{1}\\\\\n",
    "    _3P_3 &= 6\n",
    "\\end{align} \n",
    "$$\n",
    "\n",
    "Para cada una de esas 6 ordenaciones de las parejas, se considero cómo se pueden sentar los integrantes de cada pareja, dentro de cada pareja, los dos miembros pueden sentarse de 2 formas diferentes (hombre-mujer o mujer-hombre).\n",
    "Entonces, para cada una de las 6 ordenaciones de las parejas hay:\n",
    "\n",
    "$$\n",
    "\\begin{align}\n",
    "2^{3} = 8  \n",
    "\\end{align} \n",
    "$$\n",
    "\n",
    "Esas 8 formas se multiplica con 6 ordenaciones:\n",
    "\n",
    "$$\n",
    "\\begin{align}\n",
    "8 \\times 6 &= 48\n",
    "\\end{align}\n",
    "$$\n",
    "\n"
   ]
  },
  {
   "cell_type": "code",
   "execution_count": 11,
   "metadata": {},
   "outputs": [
    {
     "name": "stdout",
     "output_type": "stream",
     "text": [
      "Por pareja:  48\n"
     ]
    }
   ],
   "source": [
    "# Implementacion de la solucion del inciso c) del ejercicio 15\n",
    "num_pares = 3\n",
    "cant_maneras_c = factorial(num_pares) * 2**num_pares\n",
    "print(\"Por pareja: \", cant_maneras_c)\n"
   ]
  },
  {
   "cell_type": "markdown",
   "metadata": {},
   "source": [
    "d) ¿Cuál es la probabilidad de cada uno de los eventos descritos en los incisos anteriores?\n",
    "\n",
    "La probabilidad se obtine de los casos favorables / caso total, entonces:\n",
    "\n",
    "$$\n",
    "\\begin{align}\n",
    "    \\dfrac{720}{720} &= 1\\\\\n",
    "    \\dfrac{144}{720} &= 0.2\\\\\n",
    "    \\dfrac{48}{720} &= 0.06\\\\\n",
    "\\end{align} \n",
    "$$\n",
    "\n"
   ]
  },
  {
   "cell_type": "code",
   "execution_count": 12,
   "metadata": {},
   "outputs": [
    {
     "name": "stdout",
     "output_type": "stream",
     "text": [
      "Probabilidad: \n",
      "1.0 , 0.2 , 0.06666666666666667\n"
     ]
    }
   ],
   "source": [
    "# Implementacion de la solucion del inciso d) del ejercicio 15\n",
    "total_p = cant_maneras_a\n",
    "p_a = cant_maneras_a / total_p \n",
    "p_b = cant_maneras_b / total_p \n",
    "p_c = cant_maneras_c / total_p \n",
    "print(\"Probabilidad: \")\n",
    "print(p_a, \",\", p_b, \",\", p_c)"
   ]
  }
 ],
 "metadata": {
  "kernelspec": {
   "display_name": "Python 3",
   "language": "python",
   "name": "python3"
  },
  "language_info": {
   "codemirror_mode": {
    "name": "ipython",
    "version": 3
   },
   "file_extension": ".py",
   "mimetype": "text/x-python",
   "name": "python",
   "nbconvert_exporter": "python",
   "pygments_lexer": "ipython3",
   "version": "3.12.1"
  }
 },
 "nbformat": 4,
 "nbformat_minor": 2
}
